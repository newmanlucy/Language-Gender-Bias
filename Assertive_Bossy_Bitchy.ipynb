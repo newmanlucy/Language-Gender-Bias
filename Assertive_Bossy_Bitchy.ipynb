{
  "nbformat": 4,
  "nbformat_minor": 0,
  "metadata": {
    "colab": {
      "name": "Assertive-Bossy-Bitchy.ipynb",
      "provenance": [],
      "collapsed_sections": []
    },
    "kernelspec": {
      "name": "python3",
      "display_name": "Python 3"
    }
  },
  "cells": [
    {
      "cell_type": "markdown",
      "metadata": {
        "id": "2-ger_f8kC_k"
      },
      "source": [
        "# More Gender Linguistics: \"Assertive\"\n",
        "\n",
        "It's hard to be an assertive woman without being called \"bossy.\" Take Supreme Court Justice Elena Kagan. [This podcast](https://www.wnycstudios.org/podcasts/radiolabmoreperfect/episodes/justice-interrupted) describes how she speaks up about as much as the average male justice, but she gets a lot of flack for being bossy and overly strident. \n",
        "\n",
        "Furthermore, a bossy woman is a short step away from being called \"bitchy.\" \n",
        "\n",
        "I used a machine learning model trained on 100 billion words from Google News archives to investigate the way gender impacts the meaning of \"assertive\" and related words.\n",
        "\n",
        "## Word Algebra\n",
        "\n",
        "As discussed yesterday, machine learning allows you to, loosely speaking, do math with words. You can have an equation like: King - Man + Woman = Queen. This is an analogy. \"Man is to King as Woman is to...?\" Queen. \n",
        "\n",
        "When you have the model make analogies with words that are tied to gender based on usage rather than dictionary definitions, you can get insight into implicit biases in our language and culture. For example, when prompted to finish the analogy \"Man is to dishwasher as woman is to...\" the model comes up with \"washing machine.\" This reflects the way chores are balanced in many households, despite the words being irrelevant to gender by definition.\n",
        "\n",
        "## Adding \"femininity\" and \"masculinity\" to a word\n",
        "\n",
        "By making the analogy \"man:word :: woman:\\_\\_\", you can get a word similar in meaning to the input word, but used more often in the context of women. Similarly, with \"woman:word :: man:\\_\\_,\" you will get a \"more masculine\" version of the input word.\n",
        "\n",
        "Rather than \"man\" and \"woman\" I use the gendered pronouns \"he\" and \"she,\" because they are more common, and because \"man\" has other meanings (as in \"oh man!\" or \"mankind\").\n",
        "\n",
        "I use the python liberary `gensim`."
      ]
    },
    {
      "cell_type": "code",
      "metadata": {
        "id": "iXgB_BaVofM9",
        "colab": {
          "base_uri": "https://localhost:8080/",
          "height": 88
        },
        "outputId": "341c917c-0ffa-4f87-9694-3326247f4cac"
      },
      "source": [
        "import gensim.downloader as api\n",
        "wv = api.load('word2vec-google-news-300')"
      ],
      "execution_count": null,
      "outputs": [
        {
          "output_type": "stream",
          "text": [
            "[=================================================-] 99.8% 1660.1/1662.8MB downloaded\n"
          ],
          "name": "stdout"
        },
        {
          "output_type": "stream",
          "text": [
            "/usr/local/lib/python3.6/dist-packages/smart_open/smart_open_lib.py:254: UserWarning: This function is deprecated, use smart_open.open instead. See the migration notes for details: https://github.com/RaRe-Technologies/smart_open/blob/master/README.rst#migrating-to-the-new-open-function\n",
            "  'See the migration notes for details: %s' % _MIGRATION_NOTES_URL\n"
          ],
          "name": "stderr"
        }
      ]
    },
    {
      "cell_type": "code",
      "metadata": {
        "id": "5nG71wUwupUt"
      },
      "source": [
        "def analogy(w1a, w1b, w2a):\n",
        "\tresult = wv.most_similar(negative=[w1a], \n",
        "                                positive=[w1b, w2a])\n",
        "\tif result[0][0].lower() == w1b:\n",
        "\t\treturn result[1][0]\n",
        "\treturn result[0][0]"
      ],
      "execution_count": null,
      "outputs": []
    },
    {
      "cell_type": "markdown",
      "metadata": {
        "id": "uJK_Nbu1tM53"
      },
      "source": [
        "I defined fuctions `feminize` and `masculinize` which will return the model's response to \"he:word :: she:\\_\\_\" and \"she:word :: he:\\_\\_,\" respectively."
      ]
    },
    {
      "cell_type": "code",
      "metadata": {
        "id": "rUUodKmnof7S"
      },
      "source": [
        "def feminize(word):\n",
        "  return analogy(\"he\", word, \"she\")\n",
        "\n",
        "def masculinize(word):\n",
        "  return analogy(\"she\", word, \"he\")"
      ],
      "execution_count": null,
      "outputs": []
    },
    {
      "cell_type": "markdown",
      "metadata": {
        "id": "AFDw8DPutnU1"
      },
      "source": [
        "Then, I fed in the word \"assertive\" to both functions."
      ]
    },
    {
      "cell_type": "code",
      "metadata": {
        "id": "rD382d0KtmlW"
      },
      "source": [
        "def print_feminized(word):\n",
        "  result = feminize(word)\n",
        "  print(\"\\\"He\\\" is to \\\"%s\\\" as \\\"she\\\" is to \\\"%s\\\"\" % (word, result))\n",
        "  return result\n",
        "\n",
        "def print_masculinized(word):\n",
        "  result = masculinize(word)\n",
        "  print(\"\\\"She\\\" is to \\\"%s\\\" as \\\"he\\\" is to \\\"%s\\\"\" % (word, result))\n",
        "  return result"
      ],
      "execution_count": null,
      "outputs": []
    },
    {
      "cell_type": "code",
      "metadata": {
        "id": "7ZA6pxBWucIn",
        "colab": {
          "base_uri": "https://localhost:8080/",
          "height": 105
        },
        "outputId": "c2d8d4ba-c1f8-443d-ced8-c4528c40ce1c"
      },
      "source": [
        "_ = print_feminized(\"assertive\")\n",
        "_ = print_masculinized(\"assertive\")"
      ],
      "execution_count": null,
      "outputs": [
        {
          "output_type": "stream",
          "text": [
            "/usr/local/lib/python3.6/dist-packages/gensim/matutils.py:737: FutureWarning: Conversion of the second argument of issubdtype from `int` to `np.signedinteger` is deprecated. In future, it will be treated as `np.int64 == np.dtype(int).type`.\n",
            "  if np.issubdtype(vec.dtype, np.int):\n"
          ],
          "name": "stderr"
        },
        {
          "output_type": "stream",
          "text": [
            "\"He\" is to \"assertive\" as \"she\" is to \"bossy\"\n",
            "\"She\" is to \"assertive\" as \"he\" is to \"forceful\"\n"
          ],
          "name": "stdout"
        }
      ]
    },
    {
      "cell_type": "markdown",
      "metadata": {
        "id": "evHWsjDZu3hw"
      },
      "source": [
        "Next, I built up a graph of word relationships stemming from \"assertive.\" In the graph, each pink arrow is the result of the `feminize` function, while each blue arrow is the result of the `masculinize` function. "
      ]
    },
    {
      "cell_type": "code",
      "metadata": {
        "id": "s8zQFvL0ugal",
        "colab": {
          "base_uri": "https://localhost:8080/",
          "height": 709
        },
        "outputId": "f1c0a1b3-a185-4f6d-d476-5f289dbd7379"
      },
      "source": [
        "from graphviz import Digraph\n",
        "\n",
        "g = Digraph()\n",
        "\n",
        "words = set([\"assertive\", \"adversarial\", \"strident\", \"combative\", \"feisty\"])\n",
        "g.node(\"assertive\", color=\"purple\")\n",
        "\n",
        "used_words = set()\n",
        "\n",
        "def iterate(words):\n",
        "  results = set()\n",
        "  for word in words:\n",
        "    f = feminize(word)\n",
        "    m = masculinize(word)\n",
        "    g.node(f, color=\"pink\")\n",
        "    g.node(m, color=\"lightblue\")\n",
        "    results.add(f)\n",
        "    results.add(m)\n",
        "    g.edge(word, f, color=\"magenta\")\n",
        "    g.edge(word, m, color=\"blue\")\n",
        "  used_words.add(word)\n",
        "  return results\n",
        "\n",
        "results_1 = iterate(words)\n",
        "results_2 = iterate(results_1)\n",
        "\n",
        "g"
      ],
      "execution_count": null,
      "outputs": [
        {
          "output_type": "stream",
          "text": [
            "/usr/local/lib/python3.6/dist-packages/gensim/matutils.py:737: FutureWarning: Conversion of the second argument of issubdtype from `int` to `np.signedinteger` is deprecated. In future, it will be treated as `np.int64 == np.dtype(int).type`.\n",
            "  if np.issubdtype(vec.dtype, np.int):\n"
          ],
          "name": "stderr"
        },
        {
          "output_type": "execute_result",
          "data": {
            "text/plain": [
              "<graphviz.dot.Digraph at 0x7fdf85222240>"
            ],
            "image/svg+xml": "<?xml version=\"1.0\" encoding=\"UTF-8\" standalone=\"no\"?>\n<!DOCTYPE svg PUBLIC \"-//W3C//DTD SVG 1.1//EN\"\n \"http://www.w3.org/Graphics/SVG/1.1/DTD/svg11.dtd\">\n<!-- Generated by graphviz version 2.40.1 (20161225.0304)\n -->\n<!-- Title: %3 Pages: 1 -->\n<svg width=\"498pt\" height=\"476pt\"\n viewBox=\"0.00 0.00 497.74 476.00\" xmlns=\"http://www.w3.org/2000/svg\" xmlns:xlink=\"http://www.w3.org/1999/xlink\">\n<g id=\"graph0\" class=\"graph\" transform=\"scale(1 1) rotate(0) translate(4 472)\">\n<title>%3</title>\n<polygon fill=\"#ffffff\" stroke=\"transparent\" points=\"-4,4 -4,-472 493.7448,-472 493.7448,4 -4,4\"/>\n<!-- assertive -->\n<g id=\"node1\" class=\"node\">\n<title>assertive</title>\n<ellipse fill=\"none\" stroke=\"#a020f0\" cx=\"401.8973\" cy=\"-450\" rx=\"42.4939\" ry=\"18\"/>\n<text text-anchor=\"middle\" x=\"401.8973\" y=\"-446.3\" font-family=\"Times,serif\" font-size=\"14.00\" fill=\"#000000\">assertive</text>\n</g>\n<!-- bossy -->\n<g id=\"node10\" class=\"node\">\n<title>bossy</title>\n<ellipse fill=\"none\" stroke=\"#ffc0cb\" cx=\"331.8973\" cy=\"-90\" rx=\"32.4942\" ry=\"18\"/>\n<text text-anchor=\"middle\" x=\"331.8973\" y=\"-86.3\" font-family=\"Times,serif\" font-size=\"14.00\" fill=\"#000000\">bossy</text>\n</g>\n<!-- assertive&#45;&gt;bossy -->\n<g id=\"edge7\" class=\"edge\">\n<title>assertive&#45;&gt;bossy</title>\n<path fill=\"none\" stroke=\"#ff00ff\" d=\"M420.1357,-433.3199C445.3803,-408.3124 487.8973,-358.4144 487.8973,-306 487.8973,-306 487.8973,-306 487.8973,-234 487.8973,-193.1184 495.287,-175.2233 468.8973,-144 445.1002,-115.844 404.6442,-102.2741 373.8469,-95.7916\"/>\n<polygon fill=\"#ff00ff\" stroke=\"#ff00ff\" points=\"374.2931,-92.3132 363.8109,-93.8541 372.9661,-99.1863 374.2931,-92.3132\"/>\n</g>\n<!-- forceful -->\n<g id=\"node11\" class=\"node\">\n<title>forceful</title>\n<ellipse fill=\"none\" stroke=\"#add8e6\" cx=\"315.8973\" cy=\"-378\" rx=\"39.7935\" ry=\"18\"/>\n<text text-anchor=\"middle\" x=\"315.8973\" y=\"-374.3\" font-family=\"Times,serif\" font-size=\"14.00\" fill=\"#000000\">forceful</text>\n</g>\n<!-- assertive&#45;&gt;forceful -->\n<g id=\"edge8\" class=\"edge\">\n<title>assertive&#45;&gt;forceful</title>\n<path fill=\"none\" stroke=\"#0000ff\" d=\"M382.3826,-433.6621C370.7559,-423.9281 355.8247,-411.4275 343.0586,-400.7397\"/>\n<polygon fill=\"#0000ff\" stroke=\"#0000ff\" points=\"344.953,-397.761 335.0386,-394.0252 340.4594,-403.1283 344.953,-397.761\"/>\n</g>\n<!-- spunky -->\n<g id=\"node2\" class=\"node\">\n<title>spunky</title>\n<ellipse fill=\"none\" stroke=\"#ffc0cb\" cx=\"60.8973\" cy=\"-90\" rx=\"38.1938\" ry=\"18\"/>\n<text text-anchor=\"middle\" x=\"60.8973\" y=\"-86.3\" font-family=\"Times,serif\" font-size=\"14.00\" fill=\"#000000\">spunky</text>\n</g>\n<!-- sassy -->\n<g id=\"node14\" class=\"node\">\n<title>sassy</title>\n<ellipse fill=\"none\" stroke=\"#ffc0cb\" cx=\"29.8973\" cy=\"-18\" rx=\"29.795\" ry=\"18\"/>\n<text text-anchor=\"middle\" x=\"29.8973\" y=\"-14.3\" font-family=\"Times,serif\" font-size=\"14.00\" fill=\"#000000\">sassy</text>\n</g>\n<!-- spunky&#45;&gt;sassy -->\n<g id=\"edge11\" class=\"edge\">\n<title>spunky&#45;&gt;sassy</title>\n<path fill=\"none\" stroke=\"#ff00ff\" d=\"M53.2344,-72.2022C49.7056,-64.0064 45.4414,-54.1024 41.5286,-45.0145\"/>\n<polygon fill=\"#ff00ff\" stroke=\"#ff00ff\" points=\"44.6415,-43.3938 37.4721,-35.593 38.2121,-46.162 44.6415,-43.3938\"/>\n</g>\n<!-- affable -->\n<g id=\"node15\" class=\"node\">\n<title>affable</title>\n<ellipse fill=\"none\" stroke=\"#add8e6\" cx=\"113.8973\" cy=\"-18\" rx=\"35.9954\" ry=\"18\"/>\n<text text-anchor=\"middle\" x=\"113.8973\" y=\"-14.3\" font-family=\"Times,serif\" font-size=\"14.00\" fill=\"#000000\">affable</text>\n</g>\n<!-- spunky&#45;&gt;affable -->\n<g id=\"edge12\" class=\"edge\">\n<title>spunky&#45;&gt;affable</title>\n<path fill=\"none\" stroke=\"#0000ff\" d=\"M73.4576,-72.937C79.9921,-64.06 88.1074,-53.0354 95.3495,-43.1971\"/>\n<polygon fill=\"#0000ff\" stroke=\"#0000ff\" points=\"98.3177,-45.0688 101.4272,-34.9405 92.6803,-40.919 98.3177,-45.0688\"/>\n</g>\n<!-- pugnacious -->\n<g id=\"node3\" class=\"node\">\n<title>pugnacious</title>\n<ellipse fill=\"none\" stroke=\"#add8e6\" cx=\"60.8973\" cy=\"-234\" rx=\"53.8905\" ry=\"18\"/>\n<text text-anchor=\"middle\" x=\"60.8973\" y=\"-230.3\" font-family=\"Times,serif\" font-size=\"14.00\" fill=\"#000000\">pugnacious</text>\n</g>\n<!-- feisty -->\n<g id=\"node4\" class=\"node\">\n<title>feisty</title>\n<ellipse fill=\"none\" stroke=\"#ffc0cb\" cx=\"60.8973\" cy=\"-162\" rx=\"30.5947\" ry=\"18\"/>\n<text text-anchor=\"middle\" x=\"60.8973\" y=\"-158.3\" font-family=\"Times,serif\" font-size=\"14.00\" fill=\"#000000\">feisty</text>\n</g>\n<!-- pugnacious&#45;&gt;feisty -->\n<g id=\"edge21\" class=\"edge\">\n<title>pugnacious&#45;&gt;feisty</title>\n<path fill=\"none\" stroke=\"#ff00ff\" d=\"M54.945,-215.8314C54.183,-208.0125 53.967,-198.6923 54.2969,-190.0221\"/>\n<polygon fill=\"#ff00ff\" stroke=\"#ff00ff\" points=\"57.7978,-190.1239 54.9701,-179.9134 50.8132,-189.6587 57.7978,-190.1239\"/>\n</g>\n<!-- combative -->\n<g id=\"node6\" class=\"node\">\n<title>combative</title>\n<ellipse fill=\"none\" stroke=\"#add8e6\" cx=\"200.8973\" cy=\"-306\" rx=\"49.2915\" ry=\"18\"/>\n<text text-anchor=\"middle\" x=\"200.8973\" y=\"-302.3\" font-family=\"Times,serif\" font-size=\"14.00\" fill=\"#000000\">combative</text>\n</g>\n<!-- pugnacious&#45;&gt;combative -->\n<g id=\"edge22\" class=\"edge\">\n<title>pugnacious&#45;&gt;combative</title>\n<path fill=\"none\" stroke=\"#0000ff\" d=\"M94.1094,-248.2484C116.185,-258.8824 144.9571,-273.567 167.1354,-285.4673\"/>\n<polygon fill=\"#0000ff\" stroke=\"#0000ff\" points=\"165.738,-288.6909 176.1979,-290.3771 169.0725,-282.5361 165.738,-288.6909\"/>\n</g>\n<!-- feisty&#45;&gt;spunky -->\n<g id=\"edge1\" class=\"edge\">\n<title>feisty&#45;&gt;spunky</title>\n<path fill=\"none\" stroke=\"#ff00ff\" d=\"M60.8973,-143.8314C60.8973,-136.131 60.8973,-126.9743 60.8973,-118.4166\"/>\n<polygon fill=\"#ff00ff\" stroke=\"#ff00ff\" points=\"64.3974,-118.4132 60.8973,-108.4133 57.3974,-118.4133 64.3974,-118.4132\"/>\n</g>\n<!-- feisty&#45;&gt;pugnacious -->\n<g id=\"edge2\" class=\"edge\">\n<title>feisty&#45;&gt;pugnacious</title>\n<path fill=\"none\" stroke=\"#0000ff\" d=\"M66.8246,-179.9134C67.5985,-187.6993 67.8264,-197.01 67.5084,-205.6941\"/>\n<polygon fill=\"#0000ff\" stroke=\"#0000ff\" points=\"64.0056,-205.6254 66.8497,-215.8314 70.9909,-206.0794 64.0056,-205.6254\"/>\n</g>\n<!-- confrontational -->\n<g id=\"node5\" class=\"node\">\n<title>confrontational</title>\n<ellipse fill=\"none\" stroke=\"#add8e6\" cx=\"200.8973\" cy=\"-234\" rx=\"67.6881\" ry=\"18\"/>\n<text text-anchor=\"middle\" x=\"200.8973\" y=\"-230.3\" font-family=\"Times,serif\" font-size=\"14.00\" fill=\"#000000\">confrontational</text>\n</g>\n<!-- confrontational&#45;&gt;combative -->\n<g id=\"edge14\" class=\"edge\">\n<title>confrontational&#45;&gt;combative</title>\n<path fill=\"none\" stroke=\"#0000ff\" d=\"M206.8734,-252.4133C207.6045,-260.0593 207.8176,-269.1084 207.5128,-277.5726\"/>\n<polygon fill=\"#0000ff\" stroke=\"#0000ff\" points=\"204.0021,-277.6264 206.8497,-287.8314 210.9876,-278.078 204.0021,-277.6264\"/>\n</g>\n<!-- adversarial -->\n<g id=\"node13\" class=\"node\">\n<title>adversarial</title>\n<ellipse fill=\"none\" stroke=\"#ffc0cb\" cx=\"200.8973\" cy=\"-162\" rx=\"50.0912\" ry=\"18\"/>\n<text text-anchor=\"middle\" x=\"200.8973\" y=\"-158.3\" font-family=\"Times,serif\" font-size=\"14.00\" fill=\"#000000\">adversarial</text>\n</g>\n<!-- confrontational&#45;&gt;adversarial -->\n<g id=\"edge13\" class=\"edge\">\n<title>confrontational&#45;&gt;adversarial</title>\n<path fill=\"none\" stroke=\"#ff00ff\" d=\"M194.945,-215.8314C194.183,-208.0125 193.967,-198.6923 194.2969,-190.0221\"/>\n<polygon fill=\"#ff00ff\" stroke=\"#ff00ff\" points=\"197.7978,-190.1239 194.9701,-179.9134 190.8132,-189.6587 197.7978,-190.1239\"/>\n</g>\n<!-- combative&#45;&gt;pugnacious -->\n<g id=\"edge4\" class=\"edge\">\n<title>combative&#45;&gt;pugnacious</title>\n<path fill=\"none\" stroke=\"#0000ff\" d=\"M168.8001,-292.2879C146.7057,-281.6732 117.531,-266.7966 95.0266,-254.7297\"/>\n<polygon fill=\"#0000ff\" stroke=\"#0000ff\" points=\"96.6012,-251.6022 86.1406,-249.9205 93.2694,-257.7584 96.6012,-251.6022\"/>\n</g>\n<!-- combative&#45;&gt;confrontational -->\n<g id=\"edge3\" class=\"edge\">\n<title>combative&#45;&gt;confrontational</title>\n<path fill=\"none\" stroke=\"#ff00ff\" d=\"M194.945,-287.8314C194.1945,-280.131 193.9736,-270.9743 194.2823,-262.4166\"/>\n<polygon fill=\"#ff00ff\" stroke=\"#ff00ff\" points=\"197.7766,-262.6161 194.9213,-252.4133 190.7908,-262.1697 197.7766,-262.6161\"/>\n</g>\n<!-- shrill -->\n<g id=\"node7\" class=\"node\">\n<title>shrill</title>\n<ellipse fill=\"none\" stroke=\"#ffc0cb\" cx=\"315.8973\" cy=\"-234\" rx=\"29.4969\" ry=\"18\"/>\n<text text-anchor=\"middle\" x=\"315.8973\" y=\"-230.3\" font-family=\"Times,serif\" font-size=\"14.00\" fill=\"#000000\">shrill</text>\n</g>\n<!-- strident -->\n<g id=\"node9\" class=\"node\">\n<title>strident</title>\n<ellipse fill=\"none\" stroke=\"#ffc0cb\" cx=\"315.8973\" cy=\"-306\" rx=\"38.1938\" ry=\"18\"/>\n<text text-anchor=\"middle\" x=\"315.8973\" y=\"-302.3\" font-family=\"Times,serif\" font-size=\"14.00\" fill=\"#000000\">strident</text>\n</g>\n<!-- shrill&#45;&gt;strident -->\n<g id=\"edge16\" class=\"edge\">\n<title>shrill&#45;&gt;strident</title>\n<path fill=\"none\" stroke=\"#0000ff\" d=\"M321.8176,-251.8425C322.6052,-259.7236 322.8321,-269.1774 322.4983,-277.9647\"/>\n<polygon fill=\"#0000ff\" stroke=\"#0000ff\" points=\"318.9888,-277.9908 321.8131,-288.2022 325.9732,-278.4583 318.9888,-277.9908\"/>\n</g>\n<!-- naggy -->\n<g id=\"node16\" class=\"node\">\n<title>naggy</title>\n<ellipse fill=\"none\" stroke=\"#ffc0cb\" cx=\"307.8973\" cy=\"-162\" rx=\"34.394\" ry=\"18\"/>\n<text text-anchor=\"middle\" x=\"307.8973\" y=\"-158.3\" font-family=\"Times,serif\" font-size=\"14.00\" fill=\"#000000\">naggy</text>\n</g>\n<!-- shrill&#45;&gt;naggy -->\n<g id=\"edge15\" class=\"edge\">\n<title>shrill&#45;&gt;naggy</title>\n<path fill=\"none\" stroke=\"#ff00ff\" d=\"M313.8786,-215.8314C313.023,-208.131 312.0056,-198.9743 311.0548,-190.4166\"/>\n<polygon fill=\"#ff00ff\" stroke=\"#ff00ff\" points=\"314.5263,-189.9656 309.9433,-180.4133 307.5691,-190.7386 314.5263,-189.9656\"/>\n</g>\n<!-- vehement -->\n<g id=\"node8\" class=\"node\">\n<title>vehement</title>\n<ellipse fill=\"none\" stroke=\"#add8e6\" cx=\"409.8973\" cy=\"-234\" rx=\"46.5926\" ry=\"18\"/>\n<text text-anchor=\"middle\" x=\"409.8973\" y=\"-230.3\" font-family=\"Times,serif\" font-size=\"14.00\" fill=\"#000000\">vehement</text>\n</g>\n<!-- vociferous -->\n<g id=\"node17\" class=\"node\">\n<title>vociferous</title>\n<ellipse fill=\"none\" stroke=\"#add8e6\" cx=\"409.8973\" cy=\"-162\" rx=\"50.0912\" ry=\"18\"/>\n<text text-anchor=\"middle\" x=\"409.8973\" y=\"-158.3\" font-family=\"Times,serif\" font-size=\"14.00\" fill=\"#000000\">vociferous</text>\n</g>\n<!-- vehement&#45;&gt;vociferous -->\n<g id=\"edge19\" class=\"edge\">\n<title>vehement&#45;&gt;vociferous</title>\n<path fill=\"none\" stroke=\"#ff00ff\" d=\"M403.945,-215.8314C403.183,-208.0125 402.967,-198.6923 403.2969,-190.0221\"/>\n<polygon fill=\"#ff00ff\" stroke=\"#ff00ff\" points=\"406.7978,-190.1239 403.9701,-179.9134 399.8132,-189.6587 406.7978,-190.1239\"/>\n</g>\n<!-- vehement&#45;&gt;vociferous -->\n<g id=\"edge20\" class=\"edge\">\n<title>vehement&#45;&gt;vociferous</title>\n<path fill=\"none\" stroke=\"#0000ff\" d=\"M415.8497,-215.8314C416.6117,-208.0125 416.8277,-198.6923 416.4978,-190.0221\"/>\n<polygon fill=\"#0000ff\" stroke=\"#0000ff\" points=\"419.9815,-189.6587 415.8246,-179.9134 412.9969,-190.1239 419.9815,-189.6587\"/>\n</g>\n<!-- strident&#45;&gt;shrill -->\n<g id=\"edge5\" class=\"edge\">\n<title>strident&#45;&gt;shrill</title>\n<path fill=\"none\" stroke=\"#ff00ff\" d=\"M309.9816,-288.2022C309.1919,-280.3271 308.9628,-270.875 309.2945,-262.0852\"/>\n<polygon fill=\"#ff00ff\" stroke=\"#ff00ff\" points=\"312.8043,-262.0532 309.9771,-251.8425 305.8198,-261.5876 312.8043,-262.0532\"/>\n</g>\n<!-- strident&#45;&gt;vehement -->\n<g id=\"edge6\" class=\"edge\">\n<title>strident&#45;&gt;vehement</title>\n<path fill=\"none\" stroke=\"#0000ff\" d=\"M336.2939,-290.3771C349.2936,-280.4199 366.3418,-267.3617 380.757,-256.3203\"/>\n<polygon fill=\"#0000ff\" stroke=\"#0000ff\" points=\"383.0792,-258.9504 388.8897,-250.091 378.8226,-253.3932 383.0792,-258.9504\"/>\n</g>\n<!-- bitchy -->\n<g id=\"node18\" class=\"node\">\n<title>bitchy</title>\n<ellipse fill=\"none\" stroke=\"#ffc0cb\" cx=\"231.8973\" cy=\"-18\" rx=\"34.394\" ry=\"18\"/>\n<text text-anchor=\"middle\" x=\"231.8973\" y=\"-14.3\" font-family=\"Times,serif\" font-size=\"14.00\" fill=\"#000000\">bitchy</text>\n</g>\n<!-- bossy&#45;&gt;bitchy -->\n<g id=\"edge25\" class=\"edge\">\n<title>bossy&#45;&gt;bitchy</title>\n<path fill=\"none\" stroke=\"#ff00ff\" d=\"M311.6609,-75.4297C296.9838,-64.8623 276.9272,-50.4215 260.598,-38.6645\"/>\n<polygon fill=\"#ff00ff\" stroke=\"#ff00ff\" points=\"262.6074,-35.7984 252.447,-32.7957 258.5173,-41.4792 262.6074,-35.7984\"/>\n</g>\n<!-- arrogant -->\n<g id=\"node19\" class=\"node\">\n<title>arrogant</title>\n<ellipse fill=\"none\" stroke=\"#add8e6\" cx=\"329.8973\" cy=\"-18\" rx=\"41.6928\" ry=\"18\"/>\n<text text-anchor=\"middle\" x=\"329.8973\" y=\"-14.3\" font-family=\"Times,serif\" font-size=\"14.00\" fill=\"#000000\">arrogant</text>\n</g>\n<!-- bossy&#45;&gt;arrogant -->\n<g id=\"edge26\" class=\"edge\">\n<title>bossy&#45;&gt;arrogant</title>\n<path fill=\"none\" stroke=\"#0000ff\" d=\"M331.3927,-71.8314C331.1788,-64.131 330.9244,-54.9743 330.6867,-46.4166\"/>\n<polygon fill=\"#0000ff\" stroke=\"#0000ff\" points=\"334.1852,-46.3122 330.4088,-36.4133 327.1879,-46.5066 334.1852,-46.3122\"/>\n</g>\n<!-- forceful&#45;&gt;combative -->\n<g id=\"edge18\" class=\"edge\">\n<title>forceful&#45;&gt;combative</title>\n<path fill=\"none\" stroke=\"#0000ff\" d=\"M292.3479,-363.256C275.6698,-352.814 253.0545,-338.6549 234.4867,-327.0299\"/>\n<polygon fill=\"#0000ff\" stroke=\"#0000ff\" points=\"236.3423,-324.0623 226.0091,-321.7222 232.6276,-329.9954 236.3423,-324.0623\"/>\n</g>\n<!-- forceful&#45;&gt;strident -->\n<g id=\"edge17\" class=\"edge\">\n<title>forceful&#45;&gt;strident</title>\n<path fill=\"none\" stroke=\"#ff00ff\" d=\"M315.8973,-359.8314C315.8973,-352.131 315.8973,-342.9743 315.8973,-334.4166\"/>\n<polygon fill=\"#ff00ff\" stroke=\"#ff00ff\" points=\"319.3974,-334.4132 315.8973,-324.4133 312.3974,-334.4133 319.3974,-334.4132\"/>\n</g>\n<!-- judgmental -->\n<g id=\"node12\" class=\"node\">\n<title>judgmental</title>\n<ellipse fill=\"none\" stroke=\"#ffc0cb\" cx=\"228.8973\" cy=\"-90\" rx=\"52.7911\" ry=\"18\"/>\n<text text-anchor=\"middle\" x=\"228.8973\" y=\"-86.3\" font-family=\"Times,serif\" font-size=\"14.00\" fill=\"#000000\">judgmental</text>\n</g>\n<!-- judgmental&#45;&gt;bitchy -->\n<g id=\"edge23\" class=\"edge\">\n<title>judgmental&#45;&gt;bitchy</title>\n<path fill=\"none\" stroke=\"#ff00ff\" d=\"M229.6544,-71.8314C229.9752,-64.131 230.3567,-54.9743 230.7133,-46.4166\"/>\n<polygon fill=\"#ff00ff\" stroke=\"#ff00ff\" points=\"234.2107,-46.5503 231.1301,-36.4133 227.2168,-46.2589 234.2107,-46.5503\"/>\n</g>\n<!-- judgmental&#45;&gt;arrogant -->\n<g id=\"edge24\" class=\"edge\">\n<title>judgmental&#45;&gt;arrogant</title>\n<path fill=\"none\" stroke=\"#0000ff\" d=\"M251.8158,-73.6621C266.057,-63.5099 284.5196,-50.3485 299.9162,-39.3727\"/>\n<polygon fill=\"#0000ff\" stroke=\"#0000ff\" points=\"301.997,-42.1877 308.1081,-33.5329 297.9337,-36.4877 301.997,-42.1877\"/>\n</g>\n<!-- adversarial&#45;&gt;confrontational -->\n<g id=\"edge10\" class=\"edge\">\n<title>adversarial&#45;&gt;confrontational</title>\n<path fill=\"none\" stroke=\"#0000ff\" d=\"M206.8246,-179.9134C207.5985,-187.6993 207.8264,-197.01 207.5084,-205.6941\"/>\n<polygon fill=\"#0000ff\" stroke=\"#0000ff\" points=\"204.0056,-205.6254 206.8497,-215.8314 210.9909,-206.0794 204.0056,-205.6254\"/>\n</g>\n<!-- adversarial&#45;&gt;judgmental -->\n<g id=\"edge9\" class=\"edge\">\n<title>adversarial&#45;&gt;judgmental</title>\n<path fill=\"none\" stroke=\"#ff00ff\" d=\"M207.9629,-143.8314C211.0704,-135.8406 214.7877,-126.2819 218.2218,-117.4514\"/>\n<polygon fill=\"#ff00ff\" stroke=\"#ff00ff\" points=\"221.5685,-118.502 221.931,-107.9134 215.0445,-115.9649 221.5685,-118.502\"/>\n</g>\n</g>\n</svg>\n"
          },
          "metadata": {
            "tags": []
          },
          "execution_count": 86
        }
      ]
    },
    {
      "cell_type": "markdown",
      "metadata": {
        "id": "PaQm75C1dtSC"
      },
      "source": [
        "## Discussion\n",
        "\n",
        "The \"assertive\" -> \"bossy\" -> \"bitchy\" relation is interesting to me because it definitely seems to be reflect popular stereotypes. It's also interesting that the graph loops back around to \"bitchy\" from another direction. The masculine \"forceful\" -> \"combative\" becomes \"confrontational,\" then \"adverserial,\" then \"judgemental,\" then again \"bitchy\" when the `feminize` function is applied.\n",
        "\n",
        "I also find the \"forceful\" -> \"strident\" -> \"shrill\" -> \"naggy\" path to be noteworty. \"Shrill\" and \"naggy\" are belittling, and embody a lack of respect, where their more masculine predecessor, \"forceful,\" depicts control and respectability.\n",
        "\n",
        "The conclusion seems to be that, when we use words related to self-assertion in regards to women, they quickly take on negative and insulting meanings."
      ]
    },
    {
      "cell_type": "code",
      "metadata": {
        "id": "4zsyDQKBfWu0"
      },
      "source": [
        ""
      ],
      "execution_count": null,
      "outputs": []
    }
  ]
}